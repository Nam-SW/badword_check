{
  "nbformat": 4,
  "nbformat_minor": 0,
  "metadata": {
    "colab": {
      "name": "bad_word_check.ipynb",
      "provenance": [],
      "collapsed_sections": [],
      "authorship_tag": "ABX9TyMfDVei7KnoZVwpQypE/RDq",
      "include_colab_link": true
    },
    "kernelspec": {
      "name": "python3",
      "display_name": "Python 3"
    },
    "accelerator": "TPU"
  },
  "cells": [
    {
      "cell_type": "markdown",
      "metadata": {
        "id": "view-in-github",
        "colab_type": "text"
      },
      "source": [
        "<a href=\"https://colab.research.google.com/github/Nam-SW/badword_check/blob/master/bad_word_check.ipynb\" target=\"_parent\"><img src=\"https://colab.research.google.com/assets/colab-badge.svg\" alt=\"Open In Colab\"/></a>"
      ]
    },
    {
      "cell_type": "code",
      "metadata": {
        "id": "Xu7QvgvSKYCq",
        "colab_type": "code",
        "outputId": "b1192163-2e72-4c09-db73-71f038e19849",
        "colab": {
          "base_uri": "https://localhost:8080/",
          "height": 179
        }
      },
      "source": [
        "!pip install hgtk"
      ],
      "execution_count": 1,
      "outputs": [
        {
          "output_type": "stream",
          "text": [
            "Collecting hgtk\n",
            "  Downloading https://files.pythonhosted.org/packages/79/04/04758ed8c086fb1d9a5a267f90239533d33dbc1646ac32f8bf80e38b0ec7/hgtk-0.1.3.tar.gz\n",
            "Building wheels for collected packages: hgtk\n",
            "  Building wheel for hgtk (setup.py) ... \u001b[?25l\u001b[?25hdone\n",
            "  Created wheel for hgtk: filename=hgtk-0.1.3-py2.py3-none-any.whl size=6689 sha256=7fc1074e86cfc3564b64e3ebd0af75283644dc02844900342f8566470e8745be\n",
            "  Stored in directory: /root/.cache/pip/wheels/73/72/06/6065a57fe68264f35d7e52e37f56831eb3e9ec75656880de20\n",
            "Successfully built hgtk\n",
            "Installing collected packages: hgtk\n",
            "Successfully installed hgtk-0.1.3\n"
          ],
          "name": "stdout"
        }
      ]
    },
    {
      "cell_type": "code",
      "metadata": {
        "id": "E5C4DVbLEKo7",
        "colab_type": "code",
        "outputId": "bcd33d77-29c0-497e-910e-eaf45da75ba9",
        "colab": {
          "base_uri": "https://localhost:8080/",
          "height": 127
        }
      },
      "source": [
        "from google.colab import drive\n",
        "\n",
        "drive.mount('/content/gdrive')\n",
        "base_url = '/content/gdrive/My Drive/project/badword/'"
      ],
      "execution_count": 2,
      "outputs": [
        {
          "output_type": "stream",
          "text": [
            "Go to this URL in a browser: https://accounts.google.com/o/oauth2/auth?client_id=947318989803-6bn6qk8qdgf4n4g3pfee6491hc0brc4i.apps.googleusercontent.com&redirect_uri=urn%3aietf%3awg%3aoauth%3a2.0%3aoob&response_type=code&scope=email%20https%3a%2f%2fwww.googleapis.com%2fauth%2fdocs.test%20https%3a%2f%2fwww.googleapis.com%2fauth%2fdrive%20https%3a%2f%2fwww.googleapis.com%2fauth%2fdrive.photos.readonly%20https%3a%2f%2fwww.googleapis.com%2fauth%2fpeopleapi.readonly\n",
            "\n",
            "Enter your authorization code:\n",
            "··········\n",
            "Mounted at /content/gdrive\n"
          ],
          "name": "stdout"
        }
      ]
    },
    {
      "cell_type": "code",
      "metadata": {
        "id": "MR_DOXd6aPn3",
        "colab_type": "code",
        "outputId": "cc9c6235-a503-4489-9c34-b1f0f0597d0c",
        "colab": {
          "base_uri": "https://localhost:8080/",
          "height": 269
        }
      },
      "source": [
        "LOG_DIR = base_url + 'tensorboard_log'\n",
        "\n",
        "!wget https://bin.equinox.io/c/4VmDzA7iaHb/ngrok-stable-linux-amd64.zip\n",
        "!unzip ngrok-stable-linux-amd64.zip\n",
        "\n",
        "import os\n",
        "if not os.path.exists(LOG_DIR):\n",
        "  os.makedirs(LOG_DIR)\n",
        "  \n",
        "get_ipython().system_raw(\n",
        "    'tensorboard --logdir {} --host 0.0.0.0 --port 6006 &'\n",
        "    .format(LOG_DIR))\n",
        "\n",
        "get_ipython().system_raw('./ngrok http 6006 &')\n",
        "\n",
        "!curl -s http://localhost:4040/api/tunnels | python3 -c \\\n",
        "    \"import sys, json; print(json.load(sys.stdin)['tunnels'][0]['public_url'])\""
      ],
      "execution_count": 3,
      "outputs": [
        {
          "output_type": "stream",
          "text": [
            "--2020-03-24 15:06:23--  https://bin.equinox.io/c/4VmDzA7iaHb/ngrok-stable-linux-amd64.zip\n",
            "Resolving bin.equinox.io (bin.equinox.io)... 52.54.171.88, 34.201.247.239, 34.238.178.61, ...\n",
            "Connecting to bin.equinox.io (bin.equinox.io)|52.54.171.88|:443... connected.\n",
            "HTTP request sent, awaiting response... 200 OK\n",
            "Length: 13773305 (13M) [application/octet-stream]\n",
            "Saving to: ‘ngrok-stable-linux-amd64.zip’\n",
            "\n",
            "\r          ngrok-sta   0%[                    ]       0  --.-KB/s               \r         ngrok-stab  13%[=>                  ]   1.74M  8.68MB/s               \r        ngrok-stabl  47%[========>           ]   6.20M  15.4MB/s               \rngrok-stable-linux- 100%[===================>]  13.13M  28.0MB/s    in 0.5s    \n",
            "\n",
            "2020-03-24 15:06:24 (28.0 MB/s) - ‘ngrok-stable-linux-amd64.zip’ saved [13773305/13773305]\n",
            "\n",
            "Archive:  ngrok-stable-linux-amd64.zip\n",
            "  inflating: ngrok                   \n",
            "https://742cdc00.ngrok.io\n"
          ],
          "name": "stdout"
        }
      ]
    },
    {
      "cell_type": "code",
      "metadata": {
        "id": "tIY7r9UyKOaI",
        "colab_type": "code",
        "colab": {}
      },
      "source": [
        "from collections import defaultdict\n",
        "from hgtk.text import compose, decompose\n",
        "from string import ascii_lowercase, ascii_uppercase\n",
        "\n",
        "\n",
        "jaem = ['ㄱ', 'ㄴ', 'ㄷ', 'ㄹ', 'ㅁ', 'ㅂ', 'ㅅ', 'ㅇ', 'ㅈ', 'ㅊ', 'ㅋ', 'ㅌ', 'ㅍ', 'ㅎ', 'ㄲ', 'ㄸ', 'ㅃ', 'ㅆ', 'ㅉ', 'ㄳ', 'ㄵ', 'ㄶ', 'ㄺ', 'ㄻ', 'ㄼ', 'ㄽ', 'ㄾ', 'ㄿ', 'ㅀ', 'ㅄ']\n",
        "moem = ['ㅏ', 'ㅑ', 'ㅓ', 'ㅕ', 'ㅗ', 'ㅛ', 'ㅜ', 'ㅠ', 'ㅡ', 'ㅣ', 'ㅐ', 'ㅒ', 'ㅔ', 'ㅖ', 'ㅘ', 'ㅙ', 'ㅚ', 'ㅝ', 'ㅞ', 'ㅟ', 'ㅢ']\n",
        "english = list(ascii_lowercase) + list(ascii_uppercase)\n",
        "sign = [s for s in ''' `~!@#$%^&*()+-/=_,.?;:'\"[]{}<>\\|''']\n",
        "\n",
        "link_list = sign + jaem + moem + english + [str(i) for i in range(10)]\n",
        "voc_size = len(link_list) + 1 # OOV 포함!\n",
        "encoding_dict = defaultdict(lambda : 0, {k:code+1 for code, k in enumerate(link_list)}) # 0은 OOV\n",
        "\n",
        "\n",
        "def encode(text):\n",
        "    text = decompose(text).replace('ᴥ', '')\n",
        "    code = [encoding_dict[t] for t in text]\n",
        "    return code"
      ],
      "execution_count": 0,
      "outputs": []
    },
    {
      "cell_type": "code",
      "metadata": {
        "id": "TelzuAUIKd0D",
        "colab_type": "code",
        "colab": {}
      },
      "source": [
        "import pandas as pd\n",
        "import numpy as np\n",
        "\n",
        "\n",
        "class Data:\n",
        "    def __init__(self, maxlen):\n",
        "        bad = pd.read_excel(base_url + 'badword.xlsx', encoding='utf-8-sig')\n",
        "        bad.dropna(how='any', inplace=True)\n",
        "        good = pd.read_excel(base_url + 'goodword.xlsx', encoding='utf-8-sig')\n",
        "        good.dropna(how='any', inplace=True)\n",
        "\n",
        "        bad_len = len(bad)\n",
        "        good_len = len(good)\n",
        "\n",
        "        if bad_len > good_len:\n",
        "            good = good[:bad_len]\n",
        "        else:\n",
        "            bad = bad[:good_len]\n",
        "        df = pd.concat([bad, good])\n",
        "\n",
        "        X = df['data'].to_list()\n",
        "        Y = df['label'].to_numpy()\n",
        "\n",
        "        for i in range(len(X)):\n",
        "            d = X[i]\n",
        "            encoding = encode(d)\n",
        "            if len(encoding) > maxlen:\n",
        "                nplist = np.array(encoding[:maxlen])\n",
        "            else:\n",
        "                # nplist = np.zeros(maxlen)\n",
        "                # for i in range()\n",
        "                encoding = [0] * (maxlen - len(encoding)) + encoding\n",
        "                nplist = np.array(encoding)\n",
        "\n",
        "            X[i] = nplist\n",
        "        \n",
        "        X = np.array(X)\n",
        "        # Y = df['label'].to_numpy()\n",
        "        datalen = X.shape[0]\n",
        "\n",
        "        s = np.arange(datalen)\n",
        "        np.random.shuffle(s)\n",
        "        X, Y = X[s], Y[s]\n",
        "\n",
        "        slicelen = int(datalen * 0.9)\n",
        "        x_train = X[:slicelen]\n",
        "        y_train = Y[:slicelen]\n",
        "\n",
        "        x_test = X[slicelen:]\n",
        "        y_test = Y[slicelen:]\n",
        "\n",
        "        self.x_train = x_train\n",
        "        self.y_train = y_train\n",
        "        self.x_test = x_test\n",
        "        self.y_test = y_test\n",
        "        self.input_shape = x_train.shape[1:]"
      ],
      "execution_count": 0,
      "outputs": []
    },
    {
      "cell_type": "code",
      "metadata": {
        "id": "WiYUO1kMr-ux",
        "colab_type": "code",
        "colab": {
          "base_uri": "https://localhost:8080/",
          "height": 82
        },
        "outputId": "9c03f425-4dd1-40bc-f5ac-46d1ad43b263"
      },
      "source": [
        "from keras import layers\n",
        "from keras.models import Model\n",
        "\n",
        "\n",
        "def build_model(input_shape):\n",
        "    # layers.Embedding(maxlen, 32, input_shape=input_size)\n",
        "    input_layer = layers.Input(input_shape, name='input_layer')\n",
        "\n",
        "    embedding = layers.Embedding(voc_size, 64)(input_layer)\n",
        "    residual1 = layers.Conv1D(64, 10, name='block1_residual')(embedding)\n",
        "    x1 = layers.Conv1D(64, 10, padding='same', activation='relu', name='block1_Conv1')(residual1)\n",
        "    # x1 = layers.Dropout(0.2, name='block1_Dropout')(x1)\n",
        "    x1 = layers.Conv1D(64, 10, padding='same', activation='relu', name='block1_Conv2')(x1)\n",
        "    x1 = layers.add([residual1, x1], name='block1_add')\n",
        "    x1 = layers.MaxPool1D(2, name='block1_MaxPool')(x1)\n",
        "\n",
        "    residual2 = layers.Conv1D(32, 10, name='block2_residual')(x1)\n",
        "    x2 = layers.Conv1D(32, 10, padding='same', activation='relu', name='block2_Conv1')(residual2)\n",
        "    # x2 = layers.Dropout(0.2, name='block2_Dropout')(x2)\n",
        "    x2 = layers.Conv1D(32, 10, padding='same', activation='relu', name='block2_Conv2')(x2)\n",
        "    x2 = layers.add([residual2, x2], name='block2_add')\n",
        "    x2 = layers.MaxPool1D(2, name='block2_MaxPool')(x2)\n",
        "    \n",
        "    # residual3 = layers.Conv1D(32, 10, name='block3_residual')(x2)\n",
        "    # x3 = layers.Conv1D(32, 10, padding='same', activation='relu', name='block3_Conv1')(residual3)\n",
        "    # # x3 = layers.Dropout(0.2, name='block3_Dropout')(x3)\n",
        "    # x3 = layers.Conv1D(32, 10, padding='same', activation='relu', name='block3_Conv2')(x3)\n",
        "    # x3 = layers.add([residual3, x3], name='block3_add')\n",
        "    # x3 = layers.MaxPool1D(2, name='block3_MaxPool')(x3)\n",
        "    \n",
        "    # lstm = layers.LSTM(32, dropout=0.1, recurrent_dropout=0.1, name='lstm')(x3)\n",
        "    lstm = layers.LSTM(32, dropout=0.1, recurrent_dropout=0.1, name='lstm')(x2)\n",
        "\n",
        "    output_layer = layers.Dense(1, activation='sigmoid', name='output_layer')(lstm)\n",
        "\n",
        "    m = Model(input_layer, output_layer)\n",
        "\n",
        "    m.compile(loss='binary_crossentropy', optimizer='adam', metrics=['accuracy'])\n",
        "\n",
        "    return m"
      ],
      "execution_count": 6,
      "outputs": [
        {
          "output_type": "stream",
          "text": [
            "Using TensorFlow backend.\n"
          ],
          "name": "stderr"
        },
        {
          "output_type": "display_data",
          "data": {
            "text/html": [
              "<p style=\"color: red;\">\n",
              "The default version of TensorFlow in Colab will soon switch to TensorFlow 2.x.<br>\n",
              "We recommend you <a href=\"https://www.tensorflow.org/guide/migrate\" target=\"_blank\">upgrade</a> now \n",
              "or ensure your notebook will continue to use TensorFlow 1.x via the <code>%tensorflow_version 1.x</code> magic:\n",
              "<a href=\"https://colab.research.google.com/notebooks/tensorflow_version.ipynb\" target=\"_blank\">more info</a>.</p>\n"
            ],
            "text/plain": [
              "<IPython.core.display.HTML object>"
            ]
          },
          "metadata": {
            "tags": []
          }
        }
      ]
    },
    {
      "cell_type": "code",
      "metadata": {
        "id": "VpPHjTdmpklz",
        "colab_type": "code",
        "colab": {
          "base_uri": "https://localhost:8080/",
          "height": 1000
        },
        "outputId": "0d1164d6-4897-430d-c671-9175c44e4b84"
      },
      "source": [
        "maxlen = 100\n",
        "data = Data(maxlen)\n",
        "model = build_model(data.input_shape)\n",
        "model.summary()"
      ],
      "execution_count": 7,
      "outputs": [
        {
          "output_type": "stream",
          "text": [
            "WARNING:tensorflow:From /usr/local/lib/python3.6/dist-packages/keras/backend/tensorflow_backend.py:541: The name tf.placeholder is deprecated. Please use tf.compat.v1.placeholder instead.\n",
            "\n",
            "WARNING:tensorflow:From /usr/local/lib/python3.6/dist-packages/keras/backend/tensorflow_backend.py:66: The name tf.get_default_graph is deprecated. Please use tf.compat.v1.get_default_graph instead.\n",
            "\n",
            "WARNING:tensorflow:From /usr/local/lib/python3.6/dist-packages/keras/backend/tensorflow_backend.py:4432: The name tf.random_uniform is deprecated. Please use tf.random.uniform instead.\n",
            "\n",
            "WARNING:tensorflow:From /usr/local/lib/python3.6/dist-packages/keras/backend/tensorflow_backend.py:4267: The name tf.nn.max_pool is deprecated. Please use tf.nn.max_pool2d instead.\n",
            "\n",
            "WARNING:tensorflow:From /usr/local/lib/python3.6/dist-packages/keras/backend/tensorflow_backend.py:148: The name tf.placeholder_with_default is deprecated. Please use tf.compat.v1.placeholder_with_default instead.\n",
            "\n",
            "WARNING:tensorflow:From /usr/local/lib/python3.6/dist-packages/keras/backend/tensorflow_backend.py:3733: calling dropout (from tensorflow.python.ops.nn_ops) with keep_prob is deprecated and will be removed in a future version.\n",
            "Instructions for updating:\n",
            "Please use `rate` instead of `keep_prob`. Rate should be set to `rate = 1 - keep_prob`.\n",
            "WARNING:tensorflow:From /usr/local/lib/python3.6/dist-packages/keras/optimizers.py:793: The name tf.train.Optimizer is deprecated. Please use tf.compat.v1.train.Optimizer instead.\n",
            "\n",
            "WARNING:tensorflow:From /usr/local/lib/python3.6/dist-packages/keras/backend/tensorflow_backend.py:3657: The name tf.log is deprecated. Please use tf.math.log instead.\n",
            "\n",
            "WARNING:tensorflow:From /tensorflow-1.15.0/python3.6/tensorflow_core/python/ops/nn_impl.py:183: where (from tensorflow.python.ops.array_ops) is deprecated and will be removed in a future version.\n",
            "Instructions for updating:\n",
            "Use tf.where in 2.0, which has the same broadcast rule as np.where\n",
            "Model: \"model_1\"\n",
            "__________________________________________________________________________________________________\n",
            "Layer (type)                    Output Shape         Param #     Connected to                     \n",
            "==================================================================================================\n",
            "input_layer (InputLayer)        (None, 100)          0                                            \n",
            "__________________________________________________________________________________________________\n",
            "embedding_1 (Embedding)         (None, 100, 64)      9408        input_layer[0][0]                \n",
            "__________________________________________________________________________________________________\n",
            "block1_residual (Conv1D)        (None, 91, 64)       41024       embedding_1[0][0]                \n",
            "__________________________________________________________________________________________________\n",
            "block1_Conv1 (Conv1D)           (None, 91, 64)       41024       block1_residual[0][0]            \n",
            "__________________________________________________________________________________________________\n",
            "block1_Conv2 (Conv1D)           (None, 91, 64)       41024       block1_Conv1[0][0]               \n",
            "__________________________________________________________________________________________________\n",
            "block1_add (Add)                (None, 91, 64)       0           block1_residual[0][0]            \n",
            "                                                                 block1_Conv2[0][0]               \n",
            "__________________________________________________________________________________________________\n",
            "block1_MaxPool (MaxPooling1D)   (None, 45, 64)       0           block1_add[0][0]                 \n",
            "__________________________________________________________________________________________________\n",
            "block2_residual (Conv1D)        (None, 36, 32)       20512       block1_MaxPool[0][0]             \n",
            "__________________________________________________________________________________________________\n",
            "block2_Conv1 (Conv1D)           (None, 36, 32)       10272       block2_residual[0][0]            \n",
            "__________________________________________________________________________________________________\n",
            "block2_Conv2 (Conv1D)           (None, 36, 32)       10272       block2_Conv1[0][0]               \n",
            "__________________________________________________________________________________________________\n",
            "block2_add (Add)                (None, 36, 32)       0           block2_residual[0][0]            \n",
            "                                                                 block2_Conv2[0][0]               \n",
            "__________________________________________________________________________________________________\n",
            "block2_MaxPool (MaxPooling1D)   (None, 18, 32)       0           block2_add[0][0]                 \n",
            "__________________________________________________________________________________________________\n",
            "lstm (LSTM)                     (None, 32)           8320        block2_MaxPool[0][0]             \n",
            "__________________________________________________________________________________________________\n",
            "output_layer (Dense)            (None, 1)            33          lstm[0][0]                       \n",
            "==================================================================================================\n",
            "Total params: 181,889\n",
            "Trainable params: 181,889\n",
            "Non-trainable params: 0\n",
            "__________________________________________________________________________________________________\n"
          ],
          "name": "stdout"
        }
      ]
    },
    {
      "cell_type": "code",
      "metadata": {
        "id": "HaO-ImuSZp6t",
        "colab_type": "code",
        "colab": {
          "base_uri": "https://localhost:8080/",
          "height": 773
        },
        "outputId": "386d5ef6-d19c-428f-dd2e-dcd799d85c8c"
      },
      "source": [
        "from keras import callbacks\n",
        "\n",
        "\n",
        "callback_list = [\n",
        "                 callbacks.EarlyStopping(patience=3),\n",
        "                 callbacks.ModelCheckpoint(\n",
        "                     filepath=base_url + 'temp_model.h5',\n",
        "                     monitor='val_loss',\n",
        "                     save_best_only=True\n",
        "                 ),\n",
        "                 callbacks.ReduceLROnPlateau(\n",
        "                     monitor='val_loss',\n",
        "                     factor=0.1,\n",
        "                     patience=3\n",
        "                 ),\n",
        "                 callbacks.TensorBoard(log_dir=LOG_DIR,\n",
        "                             histogram_freq=1,\n",
        "                             embeddings_freq=1,\n",
        "                             embeddings_data=data.x_train[:200],\n",
        "                            #  write_graph=True,\n",
        "                            #  write_grads=True,\n",
        "                            #  write_images=True,\n",
        "                             )\n",
        "]\n",
        "\n",
        "history = model.fit(data.x_train,\n",
        "                    data.y_train,\n",
        "                    batch_size=5, \n",
        "                    epochs=15, \n",
        "                    validation_split=0.1, \n",
        "                    callbacks=callback_list\n",
        "                    )"
      ],
      "execution_count": 9,
      "outputs": [
        {
          "output_type": "stream",
          "text": [
            "WARNING:tensorflow:From /usr/local/lib/python3.6/dist-packages/keras/backend/tensorflow_backend.py:1033: The name tf.assign_add is deprecated. Please use tf.compat.v1.assign_add instead.\n",
            "\n",
            "WARNING:tensorflow:From /usr/local/lib/python3.6/dist-packages/keras/backend/tensorflow_backend.py:1020: The name tf.assign is deprecated. Please use tf.compat.v1.assign instead.\n",
            "\n",
            "WARNING:tensorflow:From /usr/local/lib/python3.6/dist-packages/keras/backend/tensorflow_backend.py:3005: The name tf.Session is deprecated. Please use tf.compat.v1.Session instead.\n",
            "\n",
            "Train on 4671 samples, validate on 520 samples\n",
            "WARNING:tensorflow:From /usr/local/lib/python3.6/dist-packages/keras/backend/tensorflow_backend.py:190: The name tf.get_default_session is deprecated. Please use tf.compat.v1.get_default_session instead.\n",
            "\n",
            "WARNING:tensorflow:From /usr/local/lib/python3.6/dist-packages/keras/backend/tensorflow_backend.py:197: The name tf.ConfigProto is deprecated. Please use tf.compat.v1.ConfigProto instead.\n",
            "\n",
            "WARNING:tensorflow:From /usr/local/lib/python3.6/dist-packages/keras/backend/tensorflow_backend.py:207: The name tf.global_variables is deprecated. Please use tf.compat.v1.global_variables instead.\n",
            "\n",
            "WARNING:tensorflow:From /usr/local/lib/python3.6/dist-packages/keras/backend/tensorflow_backend.py:216: The name tf.is_variable_initialized is deprecated. Please use tf.compat.v1.is_variable_initialized instead.\n",
            "\n",
            "WARNING:tensorflow:From /usr/local/lib/python3.6/dist-packages/keras/backend/tensorflow_backend.py:223: The name tf.variables_initializer is deprecated. Please use tf.compat.v1.variables_initializer instead.\n",
            "\n",
            "WARNING:tensorflow:From /usr/local/lib/python3.6/dist-packages/keras/callbacks.py:1120: The name tf.summary.histogram is deprecated. Please use tf.compat.v1.summary.histogram instead.\n",
            "\n",
            "WARNING:tensorflow:From /usr/local/lib/python3.6/dist-packages/keras/callbacks.py:1122: The name tf.summary.merge_all is deprecated. Please use tf.compat.v1.summary.merge_all instead.\n",
            "\n",
            "WARNING:tensorflow:From /usr/local/lib/python3.6/dist-packages/keras/callbacks.py:1125: The name tf.summary.FileWriter is deprecated. Please use tf.compat.v1.summary.FileWriter instead.\n",
            "\n",
            "WARNING:tensorflow:From /usr/local/lib/python3.6/dist-packages/keras/callbacks.py:1159: The name tf.train.Saver is deprecated. Please use tf.compat.v1.train.Saver instead.\n",
            "\n",
            "Epoch 1/15\n",
            "4671/4671 [==============================] - 35s 8ms/step - loss: 0.4295 - acc: 0.8157 - val_loss: 0.3234 - val_acc: 0.8885\n",
            "WARNING:tensorflow:From /usr/local/lib/python3.6/dist-packages/keras/callbacks.py:1265: The name tf.Summary is deprecated. Please use tf.compat.v1.Summary instead.\n",
            "\n",
            "Epoch 2/15\n",
            "4671/4671 [==============================] - 34s 7ms/step - loss: 0.3094 - acc: 0.8942 - val_loss: 0.3347 - val_acc: 0.8827\n",
            "Epoch 3/15\n",
            "4671/4671 [==============================] - 35s 7ms/step - loss: 0.2831 - acc: 0.9090 - val_loss: 0.2764 - val_acc: 0.9096\n",
            "Epoch 4/15\n",
            "4671/4671 [==============================] - 35s 7ms/step - loss: 0.2767 - acc: 0.9064 - val_loss: 0.2847 - val_acc: 0.9077\n",
            "Epoch 5/15\n",
            "4671/4671 [==============================] - 35s 8ms/step - loss: 0.3018 - acc: 0.8942 - val_loss: 0.3234 - val_acc: 0.8827\n",
            "Epoch 6/15\n",
            "4671/4671 [==============================] - 35s 7ms/step - loss: 0.3817 - acc: 0.8523 - val_loss: 0.4853 - val_acc: 0.7981\n",
            "WARNING:tensorflow:From /tensorflow-1.15.0/python3.6/tensorflow_core/python/training/saver.py:963: remove_checkpoint (from tensorflow.python.training.checkpoint_management) is deprecated and will be removed in a future version.\n",
            "Instructions for updating:\n",
            "Use standard file APIs to delete files with this prefix.\n"
          ],
          "name": "stdout"
        }
      ]
    },
    {
      "cell_type": "code",
      "metadata": {
        "id": "O_efm_bRqb3G",
        "colab_type": "code",
        "colab": {
          "base_uri": "https://localhost:8080/",
          "height": 301
        },
        "outputId": "b27d5bd8-8a50-45f3-90ce-22113da4dd21"
      },
      "source": [
        "import matplotlib.pyplot as plt\n",
        "\n",
        "evaluate = model.evaluate(data.x_test, data.y_test)\n",
        "print(evaluate)\n",
        "\n",
        "plt.plot(history.history['acc'], label='accuracy')\n",
        "plt.plot(history.history['loss'], label='loss')\n",
        "plt.plot(history.history['val_acc'], label='val_accuracy')\n",
        "plt.plot(history.history['val_loss'], label='val_loss')\n",
        "plt.legend()\n",
        "\n",
        "plt.show()"
      ],
      "execution_count": 10,
      "outputs": [
        {
          "output_type": "stream",
          "text": [
            "577/577 [==============================] - 0s 697us/step\n",
            "[0.5030764029902024, 0.8093587521663779]\n"
          ],
          "name": "stdout"
        },
        {
          "output_type": "display_data",
          "data": {
            "image/png": "[encoded data removed]",
            "text/plain": [
              "<Figure size 432x288 with 1 Axes>"
            ]
          },
          "metadata": {
            "tags": []
          }
        }
      ]
    },
    {
      "cell_type": "code",
      "metadata": {
        "id": "DJQRI5qFCokn",
        "colab_type": "code",
        "colab": {}
      },
      "source": [
        "for i in range(5):\n",
        "    text = input('테스트할 채팅: ')\n",
        "    encoding = encode(text)\n",
        "    if len(encoding) > maxlen:\n",
        "        nplist = np.array(encoding[:maxlen])\n",
        "    else:\n",
        "        # nplist = np.zeros(maxlen)\n",
        "        # for i in range()\n",
        "        encoding = [0] * (maxlen - len(encoding)) + encoding\n",
        "        nplist = np.array(encoding)\n",
        "    d = nplist.reshape((1, maxlen))\n",
        "    print(nplist.shape)\n",
        "    print('제재대상일 확률: ' + str(model.predict(d)[0]))"
      ],
      "execution_count": 0,
      "outputs": []
    }
  ]
}