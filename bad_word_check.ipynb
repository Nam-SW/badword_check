{
  "nbformat": 4,
  "nbformat_minor": 0,
  "metadata": {
    "colab": {
      "name": "bad_word_check.ipynb",
      "provenance": [],
      "collapsed_sections": [],
      "authorship_tag": "ABX9TyNTKyWLOqgPK7Vqi39icJpz",
      "include_colab_link": true
    },
    "kernelspec": {
      "name": "python3",
      "display_name": "Python 3"
    },
    "accelerator": "TPU"
  },
  "cells": [
    {
      "cell_type": "markdown",
      "metadata": {
        "id": "view-in-github",
        "colab_type": "text"
      },
      "source": [
        "<a href=\"https://colab.research.google.com/github/Nam-SW/badword_check/blob/master/bad_word_check.ipynb\" target=\"_parent\"><img src=\"https://colab.research.google.com/assets/colab-badge.svg\" alt=\"Open In Colab\"/></a>"
      ]
    },
    {
      "cell_type": "markdown",
      "metadata": {
        "id": "_EyZLR0K6AiU",
        "colab_type": "text"
      },
      "source": [
        "# 딥러닝을 통한 욕설 분류"
      ]
    },
    {
      "cell_type": "markdown",
      "metadata": {
        "id": "iN_Sl72e6EaX",
        "colab_type": "text"
      },
      "source": [
        "구글 드라이브 연결. 깃허브에 올라가 있는 `badword.xlsx` 와 `goodword.xlsx`를 드라이브에 올리시고, 아래 `base_url` 변수를 수정해주시면 됩니다."
      ]
    },
    {
      "cell_type": "code",
      "metadata": {
        "id": "E5C4DVbLEKo7",
        "colab_type": "code",
        "outputId": "d90d270f-cac4-4412-c5ab-7f767505b2d0",
        "colab": {
          "base_uri": "https://localhost:8080/",
          "height": 127
        }
      },
      "source": [
        "from google.colab import drive\n",
        "\n",
        "drive.mount('/content/gdrive')\n",
        "base_url = '/content/gdrive/My Drive/project/badword/'"
      ],
      "execution_count": 1,
      "outputs": [
        {
          "output_type": "stream",
          "text": [
            "Go to this URL in a browser: https://accounts.google.com/o/oauth2/auth?client_id=947318989803-6bn6qk8qdgf4n4g3pfee6491hc0brc4i.apps.googleusercontent.com&redirect_uri=urn%3aietf%3awg%3aoauth%3a2.0%3aoob&response_type=code&scope=email%20https%3a%2f%2fwww.googleapis.com%2fauth%2fdocs.test%20https%3a%2f%2fwww.googleapis.com%2fauth%2fdrive%20https%3a%2f%2fwww.googleapis.com%2fauth%2fdrive.photos.readonly%20https%3a%2f%2fwww.googleapis.com%2fauth%2fpeopleapi.readonly\n",
            "\n",
            "Enter your authorization code:\n",
            "··········\n",
            "Mounted at /content/gdrive\n"
          ],
          "name": "stdout"
        }
      ]
    },
    {
      "cell_type": "markdown",
      "metadata": {
        "id": "1V2CUPIE6cY-",
        "colab_type": "text"
      },
      "source": [
        "채팅을 자모단위로 분리할 hgtk 라이브러리를 설치합니다."
      ]
    },
    {
      "cell_type": "code",
      "metadata": {
        "id": "Xu7QvgvSKYCq",
        "colab_type": "code",
        "outputId": "5b9bcede-ed57-4007-f1d3-8afb7aadf622",
        "colab": {
          "base_uri": "https://localhost:8080/",
          "height": 179
        }
      },
      "source": [
        "!pip install hgtk"
      ],
      "execution_count": 2,
      "outputs": [
        {
          "output_type": "stream",
          "text": [
            "Collecting hgtk\n",
            "  Downloading https://files.pythonhosted.org/packages/79/04/04758ed8c086fb1d9a5a267f90239533d33dbc1646ac32f8bf80e38b0ec7/hgtk-0.1.3.tar.gz\n",
            "Building wheels for collected packages: hgtk\n",
            "  Building wheel for hgtk (setup.py) ... \u001b[?25l\u001b[?25hdone\n",
            "  Created wheel for hgtk: filename=hgtk-0.1.3-py2.py3-none-any.whl size=6689 sha256=9f7f66cdc406895cf928b95a404b34c6a5d92083ba68a46698e45977fc1b3335\n",
            "  Stored in directory: /root/.cache/pip/wheels/73/72/06/6065a57fe68264f35d7e52e37f56831eb3e9ec75656880de20\n",
            "Successfully built hgtk\n",
            "Installing collected packages: hgtk\n",
            "Successfully installed hgtk-0.1.3\n"
          ],
          "name": "stdout"
        }
      ]
    },
    {
      "cell_type": "markdown",
      "metadata": {
        "id": "GBVAMoRM6ff3",
        "colab_type": "text"
      },
      "source": [
        "텐서보드를 이용해 학습을 시각적으로 확인합니다.  \n",
        "아래 코드를 실행시키고 학습을 진행시킨 후, 1 에포크 이후에 링크를 클릭해 들어가시면 정상적으로 작동합니다.  \n",
        "다시 학습시켜서 이를 텐서보드로 확인하고싶으시다면 런타임 초기화를 해서 다시 실행해야 합니다."
      ]
    },
    {
      "cell_type": "code",
      "metadata": {
        "id": "MR_DOXd6aPn3",
        "colab_type": "code",
        "outputId": "8e3cf8e8-a308-4f59-d3ce-45017c09ef8c",
        "colab": {
          "base_uri": "https://localhost:8080/",
          "height": 269
        }
      },
      "source": [
        "LOG_DIR = 'drive/data/tb_logs'\n",
        "\t\n",
        "!wget https://bin.equinox.io/c/4VmDzA7iaHb/ngrok-stable-linux-amd64.zip\n",
        "!unzip ngrok-stable-linux-amd64.zip\n",
        "\n",
        "import os\n",
        "if not os.path.exists(LOG_DIR):\n",
        "    os.makedirs(LOG_DIR)\n",
        "else:\n",
        "    os.rmdir(LOG_DIR)\n",
        "    os.makedirs(LOG_DIR)\n",
        "  \n",
        "get_ipython().system_raw(\n",
        "    'tensorboard --logdir {} --host 0.0.0.0 --port 6006 &'\n",
        "    .format(LOG_DIR))\n",
        "\n",
        "get_ipython().system_raw('./ngrok http 6006 &')\n",
        "\n",
        "!curl -s http://localhost:4040/api/tunnels | python3 -c \\\n",
        "    \"import sys, json; print(json.load(sys.stdin)['tunnels'][0]['public_url'])\""
      ],
      "execution_count": 3,
      "outputs": [
        {
          "output_type": "stream",
          "text": [
            "--2020-03-25 10:20:02--  https://bin.equinox.io/c/4VmDzA7iaHb/ngrok-stable-linux-amd64.zip\n",
            "Resolving bin.equinox.io (bin.equinox.io)... 34.225.254.242, 34.196.154.11, 52.200.35.61, ...\n",
            "Connecting to bin.equinox.io (bin.equinox.io)|34.225.254.242|:443... connected.\n",
            "HTTP request sent, awaiting response... 200 OK\n",
            "Length: 13773305 (13M) [application/octet-stream]\n",
            "Saving to: ‘ngrok-stable-linux-amd64.zip’\n",
            "\n",
            "ngrok-stable-linux- 100%[===================>]  13.13M  23.8MB/s    in 0.6s    \n",
            "\n",
            "2020-03-25 10:20:02 (23.8 MB/s) - ‘ngrok-stable-linux-amd64.zip’ saved [13773305/13773305]\n",
            "\n",
            "Archive:  ngrok-stable-linux-amd64.zip\n",
            "  inflating: ngrok                   \n",
            "http://2f676281.ngrok.io\n"
          ],
          "name": "stdout"
        }
      ]
    },
    {
      "cell_type": "markdown",
      "metadata": {
        "id": "Fm8Lg62k678m",
        "colab_type": "text"
      },
      "source": [
        "채팅내용을 인코딩하는 함수입니다."
      ]
    },
    {
      "cell_type": "code",
      "metadata": {
        "id": "tIY7r9UyKOaI",
        "colab_type": "code",
        "colab": {}
      },
      "source": [
        "from collections import defaultdict\n",
        "from hgtk.text import compose, decompose\n",
        "from string import ascii_lowercase, ascii_uppercase\n",
        "\n",
        "\n",
        "jaem = ['ㄱ', 'ㄴ', 'ㄷ', 'ㄹ', 'ㅁ', 'ㅂ', 'ㅅ', 'ㅇ', 'ㅈ', 'ㅊ', 'ㅋ', 'ㅌ', 'ㅍ', 'ㅎ', 'ㄲ', 'ㄸ', 'ㅃ', 'ㅆ', 'ㅉ', 'ㄳ', 'ㄵ', 'ㄶ', 'ㄺ', 'ㄻ', 'ㄼ', 'ㄽ', 'ㄾ', 'ㄿ', 'ㅀ', 'ㅄ']\n",
        "moem = ['ㅏ', 'ㅑ', 'ㅓ', 'ㅕ', 'ㅗ', 'ㅛ', 'ㅜ', 'ㅠ', 'ㅡ', 'ㅣ', 'ㅐ', 'ㅒ', 'ㅔ', 'ㅖ', 'ㅘ', 'ㅙ', 'ㅚ', 'ㅝ', 'ㅞ', 'ㅟ', 'ㅢ']\n",
        "english = list(ascii_lowercase) + list(ascii_uppercase)\n",
        "sign = [s for s in ''' `~!@#$%^&*()+-/=_,.?;:'\"[]{}<>\\|''']\n",
        "\n",
        "link_list = sign + jaem + moem + english + [str(i) for i in range(10)]\n",
        "voc_size = len(link_list) + 1 # OOV 포함!\n",
        "encoding_dict = defaultdict(lambda : 0, {k:code+1 for code, k in enumerate(link_list)}) # 0은 OOV\n",
        "\n",
        "\n",
        "def encode(text):\n",
        "    text = decompose(text).replace('ᴥ', '')\n",
        "    code = [encoding_dict[t] for t in text]\n",
        "    return code"
      ],
      "execution_count": 0,
      "outputs": []
    },
    {
      "cell_type": "markdown",
      "metadata": {
        "id": "G3utkqkq7AWx",
        "colab_type": "text"
      },
      "source": [
        "구글 드라이브에서 데이터를 불러와 인코딩 후 저장하는 데이터 클래스를 만듭니다."
      ]
    },
    {
      "cell_type": "code",
      "metadata": {
        "id": "TelzuAUIKd0D",
        "colab_type": "code",
        "colab": {}
      },
      "source": [
        "import pandas as pd\n",
        "import numpy as np\n",
        "\n",
        "\n",
        "class Data:\n",
        "    def __init__(self, maxlen):\n",
        "        bad = pd.read_excel(base_url + 'badword.xlsx', encoding='utf-8-sig')\n",
        "        bad.dropna(how='any', inplace=True)\n",
        "        good = pd.read_excel(base_url + 'goodword.xlsx', encoding='utf-8-sig')\n",
        "        good.dropna(how='any', inplace=True)\n",
        "\n",
        "        bad_len = len(bad)\n",
        "        good_len = len(good)\n",
        "\n",
        "        if bad_len > good_len:\n",
        "            good = good[:bad_len]\n",
        "        else:\n",
        "            bad = bad[:good_len]\n",
        "        df = pd.concat([bad, good])\n",
        "\n",
        "        X = df['data'].to_list()\n",
        "        Y = df['label'].to_numpy()\n",
        "\n",
        "        for i in range(len(X)):\n",
        "            d = X[i]\n",
        "            encoding = encode(d)\n",
        "            if len(encoding) > maxlen:\n",
        "                nplist = np.array(encoding[:maxlen])\n",
        "            else:\n",
        "                # nplist = np.zeros(maxlen)\n",
        "                # for i in range()\n",
        "                encoding = [0] * (maxlen - len(encoding)) + encoding\n",
        "                nplist = np.array(encoding)\n",
        "\n",
        "            X[i] = nplist\n",
        "        \n",
        "        X = np.array(X)\n",
        "        # Y = df['label'].to_numpy()\n",
        "        datalen = X.shape[0]\n",
        "\n",
        "        s = np.arange(datalen)\n",
        "        np.random.shuffle(s)\n",
        "        X, Y = X[s], Y[s]\n",
        "\n",
        "        slicelen = int(datalen * 0.9)\n",
        "        x_train = X[:slicelen]\n",
        "        y_train = Y[:slicelen]\n",
        "\n",
        "        x_test = X[slicelen:]\n",
        "        y_test = Y[slicelen:]\n",
        "\n",
        "        self.x_train = x_train\n",
        "        self.y_train = y_train\n",
        "        self.x_test = x_test\n",
        "        self.y_test = y_test\n",
        "        self.input_shape = x_train.shape[1:]"
      ],
      "execution_count": 0,
      "outputs": []
    },
    {
      "cell_type": "markdown",
      "metadata": {
        "id": "5podorVl7Hg-",
        "colab_type": "text"
      },
      "source": [
        "모델을 빌드하는 함수를 만듭니다.  \n",
        "여러번 돌려본 결과 Conv1D 블럭 하나만 하는게 가장 성능이 뛰어났습니다."
      ]
    },
    {
      "cell_type": "code",
      "metadata": {
        "id": "WiYUO1kMr-ux",
        "colab_type": "code",
        "colab": {}
      },
      "source": [
        "from keras import layers\n",
        "from keras.models import Model\n",
        "\n",
        "\n",
        "def build_model(input_shape):\n",
        "    input_layer = layers.Input(input_shape, name='input_layer')\n",
        "\n",
        "    embedding = layers.Embedding(voc_size, 64)(input_layer)\n",
        "    residual1 = layers.Conv1D(32, 10, name='block1_residual')(embedding)\n",
        "    x1 = layers.Conv1D(32, 10, padding='same', activation='relu', name='block1_Conv1')(residual1)\n",
        "    # x1 = layers.Dropout(0.2, name='block1_Dropout')(x1)\n",
        "    x1 = layers.Conv1D(32, 10, padding='same', activation='relu', name='block1_Conv2')(x1)\n",
        "    x1 = layers.add([residual1, x1], name='block1_add')\n",
        "    x1 = layers.MaxPool1D(2, name='block1_MaxPool')(x1)\n",
        "\n",
        "    # residual2 = layers.Conv1D(32, 10, name='block2_residual')(x1)\n",
        "    # x2 = layers.Conv1D(32, 10, padding='same', activation='relu', name='block2_Conv1')(residual2)\n",
        "    # # x2 = layers.Dropout(0.2, name='block2_Dropout')(x2)\n",
        "    # x2 = layers.Conv1D(32, 10, padding='same', activation='relu', name='block2_Conv2')(x2)\n",
        "    # x2 = layers.add([residual2, x2], name='block2_add')\n",
        "    # x2 = layers.MaxPool1D(2, name='block2_MaxPool')(x2)\n",
        "    \n",
        "    # residual3 = layers.Conv1D(32, 10, name='block3_residual')(x2)\n",
        "    # x3 = layers.Conv1D(32, 10, padding='same', activation='relu', name='block3_Conv1')(residual3)\n",
        "    # # x3 = layers.Dropout(0.2, name='block3_Dropout')(x3)\n",
        "    # x3 = layers.Conv1D(32, 10, padding='same', activation='relu', name='block3_Conv2')(x3)\n",
        "    # x3 = layers.add([residual3, x3], name='block3_add')\n",
        "    # x3 = layers.MaxPool1D(2, name='block3_MaxPool')(x3)\n",
        "    \n",
        "    # lstm = layers.Bidirectional(layers.LSTM(32, dropout=0.1, recurrent_dropout=0.1, name='lstm'))(x3)\n",
        "    # lstm = layers.Bidirectional(layers.LSTM(32, dropout=0.1, recurrent_dropout=0.1, name='lstm'))(x2)\n",
        "    lstm = layers.Bidirectional(layers.LSTM(32, dropout=0.1, recurrent_dropout=0.1, name='lstm'))(x1)\n",
        "\n",
        "    output_layer = layers.Dense(1, activation='sigmoid', name='output_layer')(lstm)\n",
        "\n",
        "    m = Model(input_layer, output_layer)\n",
        "\n",
        "    m.compile(loss='binary_crossentropy', optimizer='adam', metrics=['accuracy'])\n",
        "\n",
        "    return m"
      ],
      "execution_count": 0,
      "outputs": []
    },
    {
      "cell_type": "markdown",
      "metadata": {
        "id": "dR1tHTk47SGg",
        "colab_type": "text"
      },
      "source": [
        "데이터의 최대 길이를 정의하고, 데이터 클래스와 모델을 빌드합니다."
      ]
    },
    {
      "cell_type": "code",
      "metadata": {
        "id": "VpPHjTdmpklz",
        "colab_type": "code",
        "outputId": "596198da-3b12-450b-a407-162db18c8949",
        "colab": {
          "base_uri": "https://localhost:8080/",
          "height": 503
        }
      },
      "source": [
        "maxlen = 100\n",
        "data = Data(maxlen)\n",
        "model = build_model(data.input_shape)\n",
        "model.summary()"
      ],
      "execution_count": 12,
      "outputs": [
        {
          "output_type": "stream",
          "text": [
            "Model: \"model_2\"\n",
            "__________________________________________________________________________________________________\n",
            "Layer (type)                    Output Shape         Param #     Connected to                     \n",
            "==================================================================================================\n",
            "input_layer (InputLayer)        (None, 100)          0                                            \n",
            "__________________________________________________________________________________________________\n",
            "embedding_2 (Embedding)         (None, 100, 64)      9408        input_layer[0][0]                \n",
            "__________________________________________________________________________________________________\n",
            "block1_residual (Conv1D)        (None, 91, 32)       20512       embedding_2[0][0]                \n",
            "__________________________________________________________________________________________________\n",
            "block1_Conv1 (Conv1D)           (None, 91, 32)       10272       block1_residual[0][0]            \n",
            "__________________________________________________________________________________________________\n",
            "block1_Conv2 (Conv1D)           (None, 91, 32)       10272       block1_Conv1[0][0]               \n",
            "__________________________________________________________________________________________________\n",
            "block1_add (Add)                (None, 91, 32)       0           block1_residual[0][0]            \n",
            "                                                                 block1_Conv2[0][0]               \n",
            "__________________________________________________________________________________________________\n",
            "block1_MaxPool (MaxPooling1D)   (None, 45, 32)       0           block1_add[0][0]                 \n",
            "__________________________________________________________________________________________________\n",
            "bidirectional_2 (Bidirectional) (None, 64)           16640       block1_MaxPool[0][0]             \n",
            "__________________________________________________________________________________________________\n",
            "output_layer (Dense)            (None, 1)            65          bidirectional_2[0][0]            \n",
            "==================================================================================================\n",
            "Total params: 67,169\n",
            "Trainable params: 67,169\n",
            "Non-trainable params: 0\n",
            "__________________________________________________________________________________________________\n"
          ],
          "name": "stdout"
        }
      ]
    },
    {
      "cell_type": "markdown",
      "metadata": {
        "id": "mgb4xMiM7Zrw",
        "colab_type": "text"
      },
      "source": [
        "텐서보드, 학습 중지 등의 콜백 함수를 정의하고 학습을 시킵니다."
      ]
    },
    {
      "cell_type": "code",
      "metadata": {
        "id": "HaO-ImuSZp6t",
        "colab_type": "code",
        "outputId": "ead978fb-1acc-4101-f9b5-37d46d8f8bbb",
        "colab": {
          "base_uri": "https://localhost:8080/",
          "height": 215
        }
      },
      "source": [
        "from keras import callbacks\n",
        "\n",
        "\n",
        "callback_list = [\n",
        "                 callbacks.EarlyStopping(patience=3),\n",
        "                 callbacks.ModelCheckpoint(\n",
        "                     filepath=base_url + 'temp_model.h5',\n",
        "                     monitor='val_loss',\n",
        "                     save_best_only=True\n",
        "                 ),\n",
        "                 callbacks.ReduceLROnPlateau(\n",
        "                     monitor='val_loss',\n",
        "                     factor=0.1,\n",
        "                     patience=3\n",
        "                 ),\n",
        "                 callbacks.TensorBoard(log_dir=LOG_DIR,\n",
        "                             histogram_freq=1,\n",
        "                             embeddings_freq=1,\n",
        "                             embeddings_data=data.x_train[:300],\n",
        "                             write_graph=True,\n",
        "                             write_grads=True,\n",
        "                             write_images=True,\n",
        "                             )\n",
        "]\n",
        "\n",
        "history = model.fit(data.x_train,\n",
        "                    data.y_train,\n",
        "                    batch_size=5, \n",
        "                    epochs=5, \n",
        "                    validation_split=0.1, \n",
        "                    callbacks=callback_list\n",
        "                    )"
      ],
      "execution_count": 13,
      "outputs": [
        {
          "output_type": "stream",
          "text": [
            "Train on 4671 samples, validate on 520 samples\n",
            "Epoch 1/5\n",
            "4671/4671 [==============================] - 67s 14ms/step - loss: 0.3406 - acc: 0.8591 - val_loss: 0.2359 - val_acc: 0.9250\n",
            "Epoch 2/5\n",
            "4671/4671 [==============================] - 61s 13ms/step - loss: 0.2287 - acc: 0.9255 - val_loss: 0.2328 - val_acc: 0.9231\n",
            "Epoch 3/5\n",
            "4671/4671 [==============================] - 61s 13ms/step - loss: 0.2077 - acc: 0.9289 - val_loss: 0.2344 - val_acc: 0.9135\n",
            "Epoch 4/5\n",
            "4671/4671 [==============================] - 61s 13ms/step - loss: 0.1857 - acc: 0.9343 - val_loss: 0.2148 - val_acc: 0.9231\n",
            "Epoch 5/5\n",
            "4671/4671 [==============================] - 61s 13ms/step - loss: 0.1679 - acc: 0.9403 - val_loss: 0.2497 - val_acc: 0.9154\n"
          ],
          "name": "stdout"
        }
      ]
    },
    {
      "cell_type": "markdown",
      "metadata": {
        "id": "G6toyi3H7gIt",
        "colab_type": "text"
      },
      "source": [
        "검증을 하여 정확도가 얼마나 되는지 확인합니다. 약 90% 정도의 성능을 보입니다.  \n",
        "학습된 내용을 텐서보드가 아니더라도 간단하게 볼 수 있도록 그래프를 그립니다."
      ]
    },
    {
      "cell_type": "code",
      "metadata": {
        "id": "O_efm_bRqb3G",
        "colab_type": "code",
        "outputId": "17ec2059-2953-411b-e2f1-7e207f1d48b2",
        "colab": {
          "base_uri": "https://localhost:8080/",
          "height": 301
        }
      },
      "source": [
        "import matplotlib.pyplot as plt\n",
        "\n",
        "evaluate = model.evaluate(data.x_test, data.y_test)\n",
        "print(f'loss: {evaluate[0]}, acc: {evaluate[1]}')\n",
        "\n",
        "plt.plot(history.history['acc'], label='accuracy')\n",
        "plt.plot(history.history['loss'], label='loss')\n",
        "plt.plot(history.history['val_acc'], label='val_accuracy')\n",
        "plt.plot(history.history['val_loss'], label='val_loss')\n",
        "plt.legend()\n",
        "\n",
        "plt.show()"
      ],
      "execution_count": 14,
      "outputs": [
        {
          "output_type": "stream",
          "text": [
            "577/577 [==============================] - 0s 589us/step\n",
            "loss: 0.24602688112953094, acc: 0.9116117850953206\n"
          ],
          "name": "stdout"
        },
        {
          "output_type": "display_data",
          "data": {
            "image/png": "[encoded data removed]",
            "text/plain": [
              "<Figure size 432x288 with 1 Axes>"
            ]
          },
          "metadata": {
            "tags": []
          }
        }
      ]
    },
    {
      "cell_type": "markdown",
      "metadata": {
        "id": "Y3GO5ecy7wY3",
        "colab_type": "text"
      },
      "source": [
        "5번에 걸쳐 사용자가 직접 입력해 모델의 성능을 확인합니다.  \n",
        "꽤나 학습이 잘 된 것 같습니다."
      ]
    },
    {
      "cell_type": "code",
      "metadata": {
        "id": "DJQRI5qFCokn",
        "colab_type": "code",
        "outputId": "26934f80-7aa4-40ea-9abd-19044ce191d2",
        "colab": {
          "base_uri": "https://localhost:8080/",
          "height": 197
        }
      },
      "source": [
        "for i in range(5):\n",
        "    text = input('테스트할 채팅: ')\n",
        "    encoding = encode(text)\n",
        "    if len(encoding) > maxlen:\n",
        "        nplist = np.array(encoding[:maxlen])\n",
        "    else:\n",
        "        encoding = [0] * (maxlen - len(encoding)) + encoding\n",
        "        nplist = np.array(encoding)\n",
        "    d = nplist.reshape((1, maxlen))\n",
        "    print('제재대상일 확률: ' + str(model.predict(d)[0]))"
      ],
      "execution_count": 15,
      "outputs": [
        {
          "output_type": "stream",
          "text": [
            "테스트할 채팅: ^^ㅣ발\n",
            "제재대상일 확률: [0.97840905]\n",
            "테스트할 채팅: 아 내가 병신이었네\n",
            "제재대상일 확률: [0.01830428]\n",
            "테스트할 채팅: 아이 병신새끼야\n",
            "제재대상일 확률: [0.92764914]\n",
            "테스트할 채팅: 아 저 병신 어떡하냐 진짜ㅋㅋ\n",
            "제재대상일 확률: [0.04198175]\n",
            "테스트할 채팅: ㅄ\n",
            "제재대상일 확률: [0.01030925]\n"
          ],
          "name": "stdout"
        }
      ]
    },
    {
      "cell_type": "markdown",
      "metadata": {
        "id": "s4XIIeTv74NF",
        "colab_type": "text"
      },
      "source": [
        "모델의 구조를 png 파일로 시각화하여 저장하고, 현 모델을 .h5 확장자로 저장합니다."
      ]
    },
    {
      "cell_type": "code",
      "metadata": {
        "id": "i_L6ztujMwt_",
        "colab_type": "code",
        "colab": {}
      },
      "source": [
        "from keras.utils import plot_model\n",
        "\n",
        "\n",
        "plot_model(model, show_shapes=True, to_file=base_url + 'model.png')\n",
        "model.save(base_url + 'model.h5')"
      ],
      "execution_count": 0,
      "outputs": []
    }
  ]
}